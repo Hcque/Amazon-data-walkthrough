{
 "cells": [
  {
   "cell_type": "markdown",
   "metadata": {},
   "source": [
    "## Data Exploration"
   ]
  },
  {
   "cell_type": "code",
   "execution_count": 1,
   "metadata": {},
   "outputs": [],
   "source": [
    "import pandas as pd\n",
    "import numpy as np\n",
    "import matplotlib.pyplot as plt\n",
    "%matplotlib inline"
   ]
  },
  {
   "cell_type": "code",
   "execution_count": 2,
   "metadata": {},
   "outputs": [
    {
     "data": {
      "text/html": [
       "<div>\n",
       "<style scoped>\n",
       "    .dataframe tbody tr th:only-of-type {\n",
       "        vertical-align: middle;\n",
       "    }\n",
       "\n",
       "    .dataframe tbody tr th {\n",
       "        vertical-align: top;\n",
       "    }\n",
       "\n",
       "    .dataframe thead th {\n",
       "        text-align: right;\n",
       "    }\n",
       "</style>\n",
       "<table border=\"1\" class=\"dataframe\">\n",
       "  <thead>\n",
       "    <tr style=\"text-align: right;\">\n",
       "      <th></th>\n",
       "      <th>img_data</th>\n",
       "      <th>img_link</th>\n",
       "      <th>link</th>\n",
       "      <th>name</th>\n",
       "      <th>num_ratings</th>\n",
       "      <th>price</th>\n",
       "      <th>stars</th>\n",
       "    </tr>\n",
       "  </thead>\n",
       "  <tbody>\n",
       "    <tr>\n",
       "      <th>0</th>\n",
       "      <td>b'\\xff\\xd8\\xff\\xe0\\x00\\x10JFIF\\x00\\x01\\x01\\x00...</td>\n",
       "      <td>https://images-na.ssl-images-amazon.com/images...</td>\n",
       "      <td>https://www.amazon.com/Nuby-Ice-Gel-Teether-Ke...</td>\n",
       "      <td>Nuby Ice Gel Teether Keys</td>\n",
       "      <td>3184.0</td>\n",
       "      <td>3.54</td>\n",
       "      <td>4.3 out of 5 stars</td>\n",
       "    </tr>\n",
       "    <tr>\n",
       "      <th>1</th>\n",
       "      <td>b'\\xff\\xd8\\xff\\xe0\\x00\\x10JFIF\\x00\\x01\\x01\\x00...</td>\n",
       "      <td>https://images-na.ssl-images-amazon.com/images...</td>\n",
       "      <td>https://www.amazon.com/First-Years-Stack-Up-Cu...</td>\n",
       "      <td>The First Years Stack Up Cups</td>\n",
       "      <td>2811.0</td>\n",
       "      <td>3.99</td>\n",
       "      <td>4.8 out of 5 stars</td>\n",
       "    </tr>\n",
       "    <tr>\n",
       "      <th>2</th>\n",
       "      <td>b'\\xff\\xd8\\xff\\xe0\\x00\\x10JFIF\\x00\\x01\\x01\\x00...</td>\n",
       "      <td>https://images-na.ssl-images-amazon.com/images...</td>\n",
       "      <td>https://www.amazon.com/Baby-Banana-Training-To...</td>\n",
       "      <td>Baby Banana Infant Training Toothbrush and Tee...</td>\n",
       "      <td>7656.0</td>\n",
       "      <td>6.99</td>\n",
       "      <td>4.7 out of 5 stars</td>\n",
       "    </tr>\n",
       "    <tr>\n",
       "      <th>3</th>\n",
       "      <td>b'\\xff\\xd8\\xff\\xe0\\x00\\x10JFIF\\x00\\x01\\x01\\x00...</td>\n",
       "      <td>https://images-na.ssl-images-amazon.com/images...</td>\n",
       "      <td>https://www.amazon.com/Mega-Bloks-80-Piece-Bui...</td>\n",
       "      <td>Mega Bloks 80-Piece Big Building Bag, Classic</td>\n",
       "      <td>5954.0</td>\n",
       "      <td>14.92</td>\n",
       "      <td>4.7 out of 5 stars</td>\n",
       "    </tr>\n",
       "    <tr>\n",
       "      <th>4</th>\n",
       "      <td>b'\\xff\\xd8\\xff\\xe0\\x00\\x10JFIF\\x00\\x01\\x01\\x00...</td>\n",
       "      <td>https://images-na.ssl-images-amazon.com/images...</td>\n",
       "      <td>https://www.amazon.com/Baby-Einstein-Along-Tun...</td>\n",
       "      <td>Baby Einstein Take Along Tunes Musical Toy</td>\n",
       "      <td>10217.0</td>\n",
       "      <td>8.99</td>\n",
       "      <td>4.6 out of 5 stars</td>\n",
       "    </tr>\n",
       "  </tbody>\n",
       "</table>\n",
       "</div>"
      ],
      "text/plain": [
       "                                            img_data  \\\n",
       "0  b'\\xff\\xd8\\xff\\xe0\\x00\\x10JFIF\\x00\\x01\\x01\\x00...   \n",
       "1  b'\\xff\\xd8\\xff\\xe0\\x00\\x10JFIF\\x00\\x01\\x01\\x00...   \n",
       "2  b'\\xff\\xd8\\xff\\xe0\\x00\\x10JFIF\\x00\\x01\\x01\\x00...   \n",
       "3  b'\\xff\\xd8\\xff\\xe0\\x00\\x10JFIF\\x00\\x01\\x01\\x00...   \n",
       "4  b'\\xff\\xd8\\xff\\xe0\\x00\\x10JFIF\\x00\\x01\\x01\\x00...   \n",
       "\n",
       "                                            img_link  \\\n",
       "0  https://images-na.ssl-images-amazon.com/images...   \n",
       "1  https://images-na.ssl-images-amazon.com/images...   \n",
       "2  https://images-na.ssl-images-amazon.com/images...   \n",
       "3  https://images-na.ssl-images-amazon.com/images...   \n",
       "4  https://images-na.ssl-images-amazon.com/images...   \n",
       "\n",
       "                                                link  \\\n",
       "0  https://www.amazon.com/Nuby-Ice-Gel-Teether-Ke...   \n",
       "1  https://www.amazon.com/First-Years-Stack-Up-Cu...   \n",
       "2  https://www.amazon.com/Baby-Banana-Training-To...   \n",
       "3  https://www.amazon.com/Mega-Bloks-80-Piece-Bui...   \n",
       "4  https://www.amazon.com/Baby-Einstein-Along-Tun...   \n",
       "\n",
       "                                                name  num_ratings  price  \\\n",
       "0                          Nuby Ice Gel Teether Keys       3184.0   3.54   \n",
       "1                      The First Years Stack Up Cups       2811.0   3.99   \n",
       "2  Baby Banana Infant Training Toothbrush and Tee...       7656.0   6.99   \n",
       "3      Mega Bloks 80-Piece Big Building Bag, Classic       5954.0  14.92   \n",
       "4         Baby Einstein Take Along Tunes Musical Toy      10217.0   8.99   \n",
       "\n",
       "                stars  \n",
       "0  4.3 out of 5 stars  \n",
       "1  4.8 out of 5 stars  \n",
       "2  4.7 out of 5 stars  \n",
       "3  4.7 out of 5 stars  \n",
       "4  4.6 out of 5 stars  "
      ]
     },
     "execution_count": 2,
     "metadata": {},
     "output_type": "execute_result"
    }
   ],
   "source": [
    "df = pd.read_csv('amazon_toys.csv')\n",
    "df.head()"
   ]
  },
  {
   "cell_type": "markdown",
   "metadata": {},
   "source": [
    "We first look at ratings, and numbers of raters. We convert rating column to numerics. And then plot histogram to look at its distribution.\n",
    "Notice that the 'num_ratings' column is not on the proper scale, we log it.\n",
    "\n",
    "Further, we are curious about the correlation between ratings and numbers of rating. So scatter plot is suitable. However, a number of items rated only few times, which makes the dataset bias towards high number of ratings, so we apply Laplace smoothing.\n",
    "\n",
    "This Laplace smoothing is like Bayesian prespective: prior rating is each item rates median 2.5, and then add information of whole dataset to form posterior rating."
   ]
  },
  {
   "cell_type": "code",
   "execution_count": 3,
   "metadata": {},
   "outputs": [],
   "source": [
    "df[\"stars\"] = df['stars'].apply(lambda x: float(x.split()[0]))\n",
    "df[\"ratings\"] = (df[\"stars\"]-1)/4"
   ]
  },
  {
   "cell_type": "code",
   "execution_count": 4,
   "metadata": {},
   "outputs": [
    {
     "data": {
      "text/plain": [
       "(6271, 8)"
      ]
     },
     "execution_count": 4,
     "metadata": {},
     "output_type": "execute_result"
    }
   ],
   "source": [
    "df.shape"
   ]
  },
  {
   "cell_type": "code",
   "execution_count": 5,
   "metadata": {},
   "outputs": [
    {
     "data": {
      "text/plain": [
       "(array([ 164.,  165.,  813., 1666., 2277., 1186.,    0.,    0.,    0.,\n",
       "           0.,    0.,    0.,    0.,    0.,    0.,    0.,    0.,    0.,\n",
       "           0.,    0.,    0.,    0.,    0.,    0.,    0.]),\n",
       " array([0. , 0.2, 0.4, 0.6, 0.8, 1. , 1.2, 1.4, 1.6, 1.8, 2. , 2.2, 2.4,\n",
       "        2.6, 2.8, 3. , 3.2, 3.4, 3.6, 3.8, 4. , 4.2, 4.4, 4.6, 4.8, 5. ]),\n",
       " <a list of 25 Patch objects>)"
      ]
     },
     "execution_count": 5,
     "metadata": {},
     "output_type": "execute_result"
    },
    {
     "data": {
      "image/png": "[encoded data removed]",
      "text/plain": [
       "<Figure size 432x288 with 1 Axes>"
      ]
     },
     "metadata": {
      "needs_background": "light"
     },
     "output_type": "display_data"
    }
   ],
   "source": [
    "plt.hist(df['ratings'], range=[0,5], bins=25)"
   ]
  },
  {
   "cell_type": "code",
   "execution_count": 6,
   "metadata": {},
   "outputs": [
    {
     "data": {
      "text/plain": [
       "(array([872., 532., 350., 301., 446., 486., 452., 498., 465., 382., 338.,\n",
       "        292., 214., 175., 147., 111.,  63.,  55.,  39.,  25.,  15.,   7.,\n",
       "          1.,   3.,   2.]),\n",
       " array([0.        , 0.16217533, 0.32435066, 0.48652598, 0.64870131,\n",
       "        0.81087664, 0.97305197, 1.1352273 , 1.29740263, 1.45957795,\n",
       "        1.62175328, 1.78392861, 1.94610394, 2.10827927, 2.2704546 ,\n",
       "        2.43262992, 2.59480525, 2.75698058, 2.91915591, 3.08133124,\n",
       "        3.24350657, 3.40568189, 3.56785722, 3.73003255, 3.89220788,\n",
       "        4.05438321]),\n",
       " <a list of 25 Patch objects>)"
      ]
     },
     "execution_count": 6,
     "metadata": {},
     "output_type": "execute_result"
    },
    {
     "data": {
      "image/png": "[encoded data removed]",
      "text/plain": [
       "<Figure size 432x288 with 1 Axes>"
      ]
     },
     "metadata": {
      "needs_background": "light"
     },
     "output_type": "display_data"
    }
   ],
   "source": [
    "plt.hist(np.log10(df['num_ratings']), bins=25)"
   ]
  },
  {
   "cell_type": "code",
   "execution_count": 7,
   "metadata": {},
   "outputs": [
    {
     "data": {
      "text/plain": [
       "<matplotlib.collections.PathCollection at 0x9332dd8>"
      ]
     },
     "execution_count": 7,
     "metadata": {},
     "output_type": "execute_result"
    },
    {
     "data": {
      "image/png": "[encoded data removed]",
      "text/plain": [
       "<Figure size 432x288 with 1 Axes>"
      ]
     },
     "metadata": {
      "needs_background": "light"
     },
     "output_type": "display_data"
    }
   ],
   "source": [
    "plt.scatter(df['ratings'], np.log10(df['num_ratings']))"
   ]
  },
  {
   "cell_type": "code",
   "execution_count": 9,
   "metadata": {},
   "outputs": [
    {
     "data": {
      "text/plain": [
       "<matplotlib.collections.PathCollection at 0x940f860>"
      ]
     },
     "execution_count": 9,
     "metadata": {},
     "output_type": "execute_result"
    },
    {
     "data": {
      "image/png": "[encoded data removed]",
      "text/plain": [
       "<Figure size 432x288 with 1 Axes>"
      ]
     },
     "metadata": {
      "needs_background": "light"
     },
     "output_type": "display_data"
    }
   ],
   "source": [
    "# Laplace smoothing\n",
    "df['bayes_ratings'] = (df['ratings']*df['num_ratings'] + 1)/(df['num_ratings'] + 2)\n",
    "plt.scatter(df['bayes_ratings'], np.log10(df['num_ratings']))"
   ]
  },
  {
   "cell_type": "code",
   "execution_count": 10,
   "metadata": {},
   "outputs": [
    {
     "data": {
      "text/plain": [
       "(array([  2.,   0.,  11.,   9.,  43., 112., 177., 279., 645., 770., 694.,\n",
       "        965., 573., 595., 421., 297., 161., 127.,  96.,  72.,  79.,  57.,\n",
       "         25.,  21.,   9.,  13.,   5.,   4.,   5.,   4.]),\n",
       " array([0.58221562, 0.76479711, 0.94737861, 1.1299601 , 1.3125416 ,\n",
       "        1.49512309, 1.67770458, 1.86028608, 2.04286757, 2.22544906,\n",
       "        2.40803056, 2.59061205, 2.77319355, 2.95577504, 3.13835653,\n",
       "        3.32093803, 3.50351952, 3.68610101, 3.86868251, 4.051264  ,\n",
       "        4.2338455 , 4.41642699, 4.59900848, 4.78158998, 4.96417147,\n",
       "        5.14675297, 5.32933446, 5.51191595, 5.69449745, 5.87707894,\n",
       "        6.05966043]),\n",
       " <a list of 30 Patch objects>)"
      ]
     },
     "execution_count": 10,
     "metadata": {},
     "output_type": "execute_result"
    },
    {
     "data": {
      "image/png": "[encoded data removed]",
      "text/plain": [
       "<Figure size 432x288 with 1 Axes>"
      ]
     },
     "metadata": {
      "needs_background": "light"
     },
     "output_type": "display_data"
    }
   ],
   "source": [
    "plt.hist(np.log(df['price']), bins=30)"
   ]
  },
  {
   "cell_type": "markdown",
   "metadata": {},
   "source": [
    "The distribution of price after log transform looksquite normal.And there is no other correlations between price and other variables."
   ]
  },
  {
   "cell_type": "code",
   "execution_count": 11,
   "metadata": {},
   "outputs": [
    {
     "data": {
      "text/plain": [
       "<matplotlib.collections.PathCollection at 0x96fb278>"
      ]
     },
     "execution_count": 11,
     "metadata": {},
     "output_type": "execute_result"
    },
    {
     "data": {
      "image/png": "[encoded data removed]",
      "text/plain": [
       "<Figure size 432x288 with 1 Axes>"
      ]
     },
     "metadata": {
      "needs_background": "light"
     },
     "output_type": "display_data"
    }
   ],
   "source": [
    "plt.scatter(df['bayes_ratings'], df['price'])\n"
   ]
  },
  {
   "cell_type": "code",
   "execution_count": 12,
   "metadata": {},
   "outputs": [
    {
     "data": {
      "text/plain": [
       "<matplotlib.collections.PathCollection at 0x974f748>"
      ]
     },
     "execution_count": 12,
     "metadata": {},
     "output_type": "execute_result"
    },
    {
     "data": {
      "image/png": "[encoded data removed]",
      "text/plain": [
       "<Figure size 432x288 with 1 Axes>"
      ]
     },
     "metadata": {
      "needs_background": "light"
     },
     "output_type": "display_data"
    }
   ],
   "source": [
    "plt.scatter(np.log10(df['num_ratings']), df['price'])"
   ]
  },
  {
   "cell_type": "markdown",
   "metadata": {},
   "source": [
    "\n",
    "\n",
    "Now lets drop na terms"
   ]
  },
  {
   "cell_type": "code",
   "execution_count": 13,
   "metadata": {},
   "outputs": [],
   "source": [
    "df.dropna(subset=[\"price\"], inplace=True)"
   ]
  },
  {
   "cell_type": "code",
   "execution_count": 14,
   "metadata": {},
   "outputs": [
    {
     "data": {
      "text/plain": [
       "Index(['img_data', 'img_link', 'link', 'name', 'num_ratings', 'price', 'stars',\n",
       "       'ratings', 'bayes_ratings'],\n",
       "      dtype='object')"
      ]
     },
     "execution_count": 14,
     "metadata": {},
     "output_type": "execute_result"
    }
   ],
   "source": [
    "df.columns"
   ]
  },
  {
   "cell_type": "code",
   "execution_count": 15,
   "metadata": {},
   "outputs": [],
   "source": [
    "# for further purpose, sort the dataset\n",
    "df.sort_values(by=[\"bayes_ratings\"], ascending=False, inplace=True)"
   ]
  },
  {
   "cell_type": "code",
   "execution_count": 16,
   "metadata": {},
   "outputs": [],
   "source": [
    "df = df[df[\"num_ratings\"]>4].copy()"
   ]
  },
  {
   "cell_type": "code",
   "execution_count": 17,
   "metadata": {},
   "outputs": [
    {
     "data": {
      "text/plain": [
       "(4216, 9)"
      ]
     },
     "execution_count": 17,
     "metadata": {},
     "output_type": "execute_result"
    }
   ],
   "source": [
    "df.shape"
   ]
  },
  {
   "cell_type": "code",
   "execution_count": 18,
   "metadata": {},
   "outputs": [
    {
     "data": {
      "text/plain": [
       "(array([  2.,   4.,   1.,   1.,   7.,   9.,   6.,  15.,  26.,  36.,  54.,\n",
       "         83., 143., 166., 208., 247., 289., 335., 414., 483., 475., 555.,\n",
       "        380., 253.,  24.]),\n",
       " array([0.07142857, 0.10801587, 0.14460317, 0.18119048, 0.21777778,\n",
       "        0.25436508, 0.29095238, 0.32753968, 0.36412698, 0.40071429,\n",
       "        0.43730159, 0.47388889, 0.51047619, 0.54706349, 0.58365079,\n",
       "        0.6202381 , 0.6568254 , 0.6934127 , 0.73      , 0.7665873 ,\n",
       "        0.8031746 , 0.8397619 , 0.87634921, 0.91293651, 0.94952381,\n",
       "        0.98611111]),\n",
       " <a list of 25 Patch objects>)"
      ]
     },
     "execution_count": 18,
     "metadata": {},
     "output_type": "execute_result"
    },
    {
     "data": {
      "image/png": "[encoded data removed]",
      "text/plain": [
       "<Figure size 432x288 with 1 Axes>"
      ]
     },
     "metadata": {
      "needs_background": "light"
     },
     "output_type": "display_data"
    }
   ],
   "source": [
    "plt.hist(df[\"bayes_ratings\"], bins=25)"
   ]
  },
  {
   "cell_type": "markdown",
   "metadata": {},
   "source": [
    "Notice this variable is target, so transform that to normal to fit assumptions.Here we use logit transformation."
   ]
  },
  {
   "cell_type": "code",
   "execution_count": 19,
   "metadata": {},
   "outputs": [
    {
     "data": {
      "text/plain": [
       "((array([-3.59149188, -3.35345954, -3.22212794, ...,  3.22212794,\n",
       "          3.35345954,  3.59149188]),\n",
       "  array([-4.97461787, -4.73303713, -4.68179272, ...,  1.68591538,\n",
       "          1.69751027,  1.7750018 ])),\n",
       " (0.9726382502342947, 3.484394173651809e-14, 0.971882356104486))"
      ]
     },
     "execution_count": 19,
     "metadata": {},
     "output_type": "execute_result"
    },
    {
     "data": {
      "image/png": "[encoded data removed]",
      "text/plain": [
       "<Figure size 432x288 with 1 Axes>"
      ]
     },
     "metadata": {
      "needs_background": "light"
     },
     "output_type": "display_data"
    }
   ],
   "source": [
    "import scipy.stats as stats\n",
    "stats.probplot((df[\"bayes_ratings\"] - np.mean(df[\"bayes_ratings\"]))/np.std(df[\"bayes_ratings\"]),plot=plt)"
   ]
  },
  {
   "cell_type": "code",
   "execution_count": 20,
   "metadata": {},
   "outputs": [],
   "source": [
    "df[\"logit_rating\"] = np.log(df[\"bayes_ratings\"]/(1-df[\"bayes_ratings\"]))"
   ]
  },
  {
   "cell_type": "code",
   "execution_count": 21,
   "metadata": {},
   "outputs": [
    {
     "data": {
      "text/plain": [
       "(array([  1.,   2.,   3.,   1.,   2.,  12.,  14.,  42.,  84., 188., 333.,\n",
       "        432., 505., 578., 611., 485., 351., 295., 169.,  67.,  30.,   5.,\n",
       "          5.,   0.,   1.]),\n",
       " array([-2.56494936, -2.29184419, -2.01873902, -1.74563385, -1.47252868,\n",
       "        -1.19942351, -0.92631834, -0.65321317, -0.380108  , -0.10700283,\n",
       "         0.16610234,  0.43920751,  0.71231268,  0.98541784,  1.25852301,\n",
       "         1.53162818,  1.80473335,  2.07783852,  2.35094369,  2.62404886,\n",
       "         2.89715403,  3.1702592 ,  3.44336437,  3.71646954,  3.98957471,\n",
       "         4.26267988]),\n",
       " <a list of 25 Patch objects>)"
      ]
     },
     "execution_count": 21,
     "metadata": {},
     "output_type": "execute_result"
    },
    {
     "data": {
      "image/png": "[encoded data removed]",
      "text/plain": [
       "<Figure size 432x288 with 1 Axes>"
      ]
     },
     "metadata": {
      "needs_background": "light"
     },
     "output_type": "display_data"
    }
   ],
   "source": [
    "plt.hist(df[\"logit_rating\"], bins=25)"
   ]
  },
  {
   "cell_type": "code",
   "execution_count": 22,
   "metadata": {},
   "outputs": [
    {
     "data": {
      "text/plain": [
       "((array([-3.59149188, -3.35345954, -3.22212794, ...,  3.22212794,\n",
       "          3.35345954,  3.59149188]),\n",
       "  array([-4.93063575, -4.39002401, -4.29540006, ...,  3.16804274,\n",
       "          3.25183861,  4.00259585])),\n",
       " (0.9991770573440354, -1.2296166189413617e-14, 0.9984005383534346))"
      ]
     },
     "execution_count": 22,
     "metadata": {},
     "output_type": "execute_result"
    },
    {
     "data": {
      "image/png": "[encoded data removed]",
      "text/plain": [
       "<Figure size 432x288 with 1 Axes>"
      ]
     },
     "metadata": {
      "needs_background": "light"
     },
     "output_type": "display_data"
    }
   ],
   "source": [
    "stats.probplot((df[\"logit_rating\"] - np.mean(df[\"logit_rating\"]))/np.std(df[\"logit_rating\"]),plot=plt)"
   ]
  },
  {
   "cell_type": "markdown",
   "metadata": {},
   "source": [
    "## text for logistic regression"
   ]
  },
  {
   "cell_type": "code",
   "execution_count": 25,
   "metadata": {},
   "outputs": [],
   "source": [
    "from sklearn.feature_extraction.text import TfidfVectorizer\n",
    "tfidf =  TfidfVectorizer(min_df=10, max_df=0.3, ngram_range=(1,3))\n",
    "\n",
    "\n",
    "X_tfidf = tfidf.fit_transform(df[\"name\"]).toarray()\n",
    "X = np.hstack([X_tfidf, np.log(df[[\"price\"]]).values])\n",
    "y = df['logit_rating'] > np.median(df['logit_rating'])"
   ]
  },
  {
   "cell_type": "code",
   "execution_count": 26,
   "metadata": {},
   "outputs": [],
   "source": [
    "from sklearn.model_selection import train_test_split\n",
    "X_, X_test, y_, y_test = train_test_split(X, y, test_size = 0.3, random_state=0)\n",
    "X_train, X_cv, y_train, y_cv = train_test_split(X_, y_, test_size = 0.3, random_state=0)"
   ]
  },
  {
   "cell_type": "code",
   "execution_count": 27,
   "metadata": {},
   "outputs": [
    {
     "name": "stderr",
     "output_type": "stream",
     "text": [
      "G:\\anaconda_3\\lib\\site-packages\\sklearn\\linear_model\\logistic.py:433: FutureWarning: Default solver will be changed to 'lbfgs' in 0.22. Specify a solver to silence this warning.\n",
      "  FutureWarning)\n"
     ]
    },
    {
     "data": {
      "text/plain": [
       "LogisticRegression(C=1.0, class_weight=None, dual=False, fit_intercept=True,\n",
       "          intercept_scaling=1, max_iter=100, multi_class='warn',\n",
       "          n_jobs=None, penalty='l2', random_state=None, solver='warn',\n",
       "          tol=0.0001, verbose=0, warm_start=False)"
      ]
     },
     "execution_count": 27,
     "metadata": {},
     "output_type": "execute_result"
    }
   ],
   "source": [
    "from sklearn.linear_model import LogisticRegression\n",
    "\n",
    "clf = LogisticRegression()\n",
    "clf.fit(X_train, y_train)"
   ]
  },
  {
   "cell_type": "code",
   "execution_count": 28,
   "metadata": {},
   "outputs": [
    {
     "name": "stdout",
     "output_type": "stream",
     "text": [
      "0.7753026634382567\n",
      "0.6106094808126411\n"
     ]
    }
   ],
   "source": [
    "print(clf.score(X_train, y_train))\n",
    "print(clf.score(X_cv, y_cv))\n"
   ]
  },
  {
   "cell_type": "code",
   "execution_count": 30,
   "metadata": {},
   "outputs": [
    {
     "name": "stderr",
     "output_type": "stream",
     "text": [
      "G:\\anaconda_3\\lib\\site-packages\\sklearn\\linear_model\\logistic.py:433: FutureWarning: Default solver will be changed to 'lbfgs' in 0.22. Specify a solver to silence this warning.\n",
      "  FutureWarning)\n",
      "G:\\anaconda_3\\lib\\site-packages\\sklearn\\linear_model\\logistic.py:433: FutureWarning: Default solver will be changed to 'lbfgs' in 0.22. Specify a solver to silence this warning.\n",
      "  FutureWarning)\n",
      "G:\\anaconda_3\\lib\\site-packages\\sklearn\\linear_model\\logistic.py:433: FutureWarning: Default solver will be changed to 'lbfgs' in 0.22. Specify a solver to silence this warning.\n",
      "  FutureWarning)\n",
      "G:\\anaconda_3\\lib\\site-packages\\sklearn\\linear_model\\logistic.py:433: FutureWarning: Default solver will be changed to 'lbfgs' in 0.22. Specify a solver to silence this warning.\n",
      "  FutureWarning)\n",
      "G:\\anaconda_3\\lib\\site-packages\\sklearn\\linear_model\\logistic.py:433: FutureWarning: Default solver will be changed to 'lbfgs' in 0.22. Specify a solver to silence this warning.\n",
      "  FutureWarning)\n",
      "G:\\anaconda_3\\lib\\site-packages\\sklearn\\linear_model\\logistic.py:433: FutureWarning: Default solver will be changed to 'lbfgs' in 0.22. Specify a solver to silence this warning.\n",
      "  FutureWarning)\n",
      "G:\\anaconda_3\\lib\\site-packages\\sklearn\\linear_model\\logistic.py:433: FutureWarning: Default solver will be changed to 'lbfgs' in 0.22. Specify a solver to silence this warning.\n",
      "  FutureWarning)\n",
      "G:\\anaconda_3\\lib\\site-packages\\sklearn\\linear_model\\logistic.py:433: FutureWarning: Default solver will be changed to 'lbfgs' in 0.22. Specify a solver to silence this warning.\n",
      "  FutureWarning)\n",
      "G:\\anaconda_3\\lib\\site-packages\\sklearn\\linear_model\\logistic.py:433: FutureWarning: Default solver will be changed to 'lbfgs' in 0.22. Specify a solver to silence this warning.\n",
      "  FutureWarning)\n",
      "G:\\anaconda_3\\lib\\site-packages\\sklearn\\linear_model\\logistic.py:433: FutureWarning: Default solver will be changed to 'lbfgs' in 0.22. Specify a solver to silence this warning.\n",
      "  FutureWarning)\n"
     ]
    }
   ],
   "source": [
    "def get_error(clf, X, y, X_cv, y_cv, n):\n",
    "    clf.fit(X[:n], y[:n])\n",
    "    return np.array([clf.score(X[:n], y[:n]), clf.score(X_cv, y_cv)])\n",
    "\n",
    "\n",
    "n_samples = [int(x) for x in np.linspace(20, X_train.shape[0], 10)]\n",
    "errors =  np.array([get_error(clf, X_train, y_train, X_cv, y_cv, n) for n in n_samples])\n"
   ]
  },
  {
   "cell_type": "code",
   "execution_count": 32,
   "metadata": {},
   "outputs": [
    {
     "data": {
      "text/plain": [
       "<matplotlib.legend.Legend at 0x12adb048>"
      ]
     },
     "execution_count": 32,
     "metadata": {},
     "output_type": "execute_result"
    },
    {
     "data": {
      "image/png": "[encoded data removed]",
      "text/plain": [
       "<Figure size 432x288 with 1 Axes>"
      ]
     },
     "metadata": {
      "needs_background": "light"
     },
     "output_type": "display_data"
    }
   ],
   "source": [
    "plt.plot(n_samples, errors[:,0], n_samples, errors[:,1])\n",
    "plt.legend(['train', 'cross validation'])"
   ]
  },
  {
   "cell_type": "markdown",
   "metadata": {},
   "source": [
    "It seems that large data set would make improvement. "
   ]
  },
  {
   "cell_type": "code",
   "execution_count": 34,
   "metadata": {},
   "outputs": [
    {
     "name": "stdout",
     "output_type": "stream",
     "text": [
      "0.7753026634382567\n",
      "0.6106094808126411\n",
      "0.6110671936758894\n"
     ]
    },
    {
     "name": "stderr",
     "output_type": "stream",
     "text": [
      "G:\\anaconda_3\\lib\\site-packages\\sklearn\\linear_model\\logistic.py:433: FutureWarning: Default solver will be changed to 'lbfgs' in 0.22. Specify a solver to silence this warning.\n",
      "  FutureWarning)\n"
     ]
    }
   ],
   "source": [
    "clf = LogisticRegression(C=1.0)\n",
    "clf.fit(X_train, y_train)\n",
    "print(clf.score(X_train, y_train))\n",
    "print(clf.score(X_cv, y_cv))\n",
    "print(clf.score(X_test, y_test))"
   ]
  },
  {
   "cell_type": "markdown",
   "metadata": {},
   "source": [
    "the most effective words in toys'titles"
   ]
  },
  {
   "cell_type": "code",
   "execution_count": 35,
   "metadata": {},
   "outputs": [
    {
     "data": {
      "text/plain": [
       "[('green toys', 1.5803119718069618),\n",
       " ('roll', -1.3944456846067044),\n",
       " ('baby rattle', 1.298615692958738),\n",
       " ('celebriducks', 1.2927818047402746),\n",
       " ('brio', 1.1992263312490188),\n",
       " ('10', 1.1743101001357865),\n",
       " ('jr', -1.1715380950249676),\n",
       " ('haba', -1.1700138493777616),\n",
       " ('go', 1.133096984760798),\n",
       " ('toy for', 1.0774046529873846),\n",
       " ('janod', -1.0770826133691516),\n",
       " ('by', -1.0687789539574242),\n",
       " ('silicone', 1.0357622917459766),\n",
       " ('mat', -1.0264343212200704),\n",
       " ('wrist', -1.023024192084453),\n",
       " ('free', 1.0177012975614987),\n",
       " ('vtech', 1.0176116119612377),\n",
       " ('boys', 0.998867089232869),\n",
       " ('toddlers', 0.9714216869348535),\n",
       " ('squishy', -0.9521474187195631)]"
      ]
     },
     "execution_count": 35,
     "metadata": {},
     "output_type": "execute_result"
    }
   ],
   "source": [
    "feature_names = np.array(tfidf.get_feature_names() + [\"++price++\"])\n",
    "\n",
    "sorted(zip(feature_names, clf.coef_[0]), key=lambda x : np.abs(x[1]), reverse=True)[:20]"
   ]
  },
  {
   "cell_type": "code",
   "execution_count": null,
   "metadata": {},
   "outputs": [],
   "source": []
  }
 ],
 "metadata": {
  "kernelspec": {
   "display_name": "Python 3",
   "language": "python",
   "name": "python3"
  },
  "language_info": {
   "codemirror_mode": {
    "name": "ipython",
    "version": 3
   },
   "file_extension": ".py",
   "mimetype": "text/x-python",
   "name": "python",
   "nbconvert_exporter": "python",
   "pygments_lexer": "ipython3",
   "version": "3.7.1"
  }
 },
 "nbformat": 4,
 "nbformat_minor": 2
}
