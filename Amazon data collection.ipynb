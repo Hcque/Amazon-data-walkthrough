{
 "cells": [
  {
   "cell_type": "markdown",
   "metadata": {},
   "source": [
    "## Preface\n",
    "In the project, we extract data from amazon, and prepare for further analysis. Also, we try to visualize data in order to describe consumptional behaviors.\n"
   ]
  },
  {
   "cell_type": "markdown",
   "metadata": {},
   "source": [
    "## Collect data\n",
    "We use BeautifulSoup to parse the raw HTML. The variables for each items are: image data in bytes, image link, item link, name of goods, numbers of rating, price and rating(0-5)."
   ]
  },
  {
   "cell_type": "code",
   "execution_count": 1,
   "metadata": {},
   "outputs": [],
   "source": [
    "import requests\n",
    "from bs4 import BeautifulSoup"
   ]
  },
  {
   "cell_type": "code",
   "execution_count": 2,
   "metadata": {},
   "outputs": [],
   "source": [
    "# one page item\n",
    "def getOnePage(url):\n",
    "    onepage = []\n",
    "    headers = {\n",
    "        'User-Agent':'Mozilla/5.0 (Macintosh; Intel Mac OS X 10_10_3) AppleWebKit/537.36 (KHTML, like Gecko) Chrome/54.0.2840.71 Safari/537.36'\n",
    "        }\n",
    "    # call response\n",
    "    response = requests.get(url, headers=headers)\n",
    "    # build Soup object \n",
    "    root = BeautifulSoup(response.text, 'html5lib')\n",
    "    # get a list contain each item's HTML\n",
    "    items = root.find_all(\"div\", class_=\"s-item-container\")  \n",
    "    \n",
    "    for i in items:\n",
    "        try:\n",
    "            # deal with each item HTML\n",
    "            d = {}\n",
    "            d['img_data'] = i.find(\"img\")['src']\n",
    "            d['img_link'] = i.find(\"img\")['src']\n",
    "            d['link'] = i.find(\"a\", class_=\"s-access-detail-page\")['href']\n",
    "            d['name'] = i.find(\"a\", class_=\"s-access-detail-page\").text\n",
    "            d['num_ratings'] = \\\n",
    "            float((i.find(\"a\", {\"href\":lambda x : x.endswith(\"#customerReviews\")}).text).replace(',',''))\n",
    "            d['price'] = \\\n",
    "            float(i.find(\"span\", class_=\"sx-price-whole\").text + '.'+\\\n",
    "            i.find(\"sup\",class_=\"sx-price-fractional\").text\n",
    "            )\n",
    "            d['stars'] = i.find(\"i\",class_=\"a-icon-star\").text\n",
    "            # print(d)\n",
    "            onepage.append(d)\n",
    "        except (TypeError, AttributeError):\n",
    "            pass\n",
    "    return onepage\n",
    "    \n",
    "# url = 'https://www.amazon.com/s/ref=sd_allcat_nav_desktop_sa_intl_baby_toddler_toys?_encoding=UTF8&bbn=16225005011&rh=i%3Aspecialty-aps%2Cn%3A%2116225005011%2Cn%3A196601011'\n",
    "# getOnePage(url)"
   ]
  },
  {
   "cell_type": "code",
   "execution_count": 3,
   "metadata": {},
   "outputs": [],
   "source": [
    "def getUrl(page):\n",
    "    return 'https://www.amazon.com/s/ref=sr_pg_'+str(page)+\\\n",
    "    '?rh=i%3Ababy-products-intl-ship%2Cn%3A%2116225005011%2Cn%3A196601011&page='+str(page)+\\\n",
    "    '&bbn=16225005011&ie=UTF8&qid=1549443515'"
   ]
  },
  {
   "cell_type": "code",
   "execution_count": null,
   "metadata": {},
   "outputs": [],
   "source": [
    "# all scapling\n",
    "def scaplingAll():\n",
    "    ans = []\n",
    "    page = 1\n",
    "    while True and page<500:\n",
    "        url = getUrl(page)\n",
    "        #print(url)\n",
    "        try:\n",
    "            onePageItems = getOnePage(url)\n",
    "            ans = ans + onePageItems # add items\n",
    "            page = page + 1\n",
    "        except (SysCallError, SSLError):\n",
    "            break\n",
    "    return ans\n",
    "\n",
    "\n",
    "items = scaplingAll()\n",
    "\n"
   ]
  },
  {
   "cell_type": "code",
   "execution_count": null,
   "metadata": {},
   "outputs": [],
   "source": [
    "import pandas as pd\n",
    "\n",
    "# finally get the list\n",
    "df = pd.DataFrame(items)\n",
    "\n",
    "df.to_csv('amazon_toys.csv', encoding='utf-8', index=False)\n",
    "\n"
   ]
  },
  {
   "cell_type": "code",
   "execution_count": 4,
   "metadata": {},
   "outputs": [
    {
     "data": {
      "text/html": [
       "<div>\n",
       "<style scoped>\n",
       "    .dataframe tbody tr th:only-of-type {\n",
       "        vertical-align: middle;\n",
       "    }\n",
       "\n",
       "    .dataframe tbody tr th {\n",
       "        vertical-align: top;\n",
       "    }\n",
       "\n",
       "    .dataframe thead th {\n",
       "        text-align: right;\n",
       "    }\n",
       "</style>\n",
       "<table border=\"1\" class=\"dataframe\">\n",
       "  <thead>\n",
       "    <tr style=\"text-align: right;\">\n",
       "      <th></th>\n",
       "      <th>img_data</th>\n",
       "      <th>img_link</th>\n",
       "      <th>link</th>\n",
       "      <th>name</th>\n",
       "      <th>num_ratings</th>\n",
       "      <th>price</th>\n",
       "      <th>stars</th>\n",
       "    </tr>\n",
       "  </thead>\n",
       "  <tbody>\n",
       "    <tr>\n",
       "      <th>0</th>\n",
       "      <td>https://images-na.ssl-images-amazon.com/images...</td>\n",
       "      <td>https://images-na.ssl-images-amazon.com/images...</td>\n",
       "      <td>https://www.amazon.com/ORWINE-Educational-Fric...</td>\n",
       "      <td>ORWINE Inertia Toy Early Educational Toddler B...</td>\n",
       "      <td>99.0</td>\n",
       "      <td>16.99</td>\n",
       "      <td>4.8 out of 5 stars</td>\n",
       "    </tr>\n",
       "    <tr>\n",
       "      <th>1</th>\n",
       "      <td>https://images-na.ssl-images-amazon.com/images...</td>\n",
       "      <td>https://images-na.ssl-images-amazon.com/images...</td>\n",
       "      <td>https://www.amazon.com/Melissa-Doug-Flip-Fish-...</td>\n",
       "      <td>Melissa &amp; Doug Flip Fish Baby Toy, Development...</td>\n",
       "      <td>243.0</td>\n",
       "      <td>14.99</td>\n",
       "      <td>4.8 out of 5 stars</td>\n",
       "    </tr>\n",
       "    <tr>\n",
       "      <th>2</th>\n",
       "      <td>https://images-na.ssl-images-amazon.com/images...</td>\n",
       "      <td>https://images-na.ssl-images-amazon.com/images...</td>\n",
       "      <td>https://www.amazon.com/TYRY-HU-Pacifier-Silico...</td>\n",
       "      <td>TYRY.HU Pacifier Clips Silicone Teething Beads...</td>\n",
       "      <td>209.0</td>\n",
       "      <td>13.99</td>\n",
       "      <td>4.1 out of 5 stars</td>\n",
       "    </tr>\n",
       "    <tr>\n",
       "      <th>3</th>\n",
       "      <td>https://images-na.ssl-images-amazon.com/images...</td>\n",
       "      <td>https://images-na.ssl-images-amazon.com/images...</td>\n",
       "      <td>https://www.amazon.com/Patrol-Ultimate-Rescue-...</td>\n",
       "      <td>PAW Patrol Ultimate Rescue Chase's Mini Helico...</td>\n",
       "      <td>45.0</td>\n",
       "      <td>7.29</td>\n",
       "      <td>4.8 out of 5 stars</td>\n",
       "    </tr>\n",
       "    <tr>\n",
       "      <th>4</th>\n",
       "      <td>https://images-na.ssl-images-amazon.com/images...</td>\n",
       "      <td>https://images-na.ssl-images-amazon.com/images...</td>\n",
       "      <td>https://www.amazon.com/Skip-Hop-Explore-Follow...</td>\n",
       "      <td>Skip Hop Explore &amp; More Follow-Me Bee Crawl To...</td>\n",
       "      <td>131.0</td>\n",
       "      <td>23.49</td>\n",
       "      <td>4.5 out of 5 stars</td>\n",
       "    </tr>\n",
       "  </tbody>\n",
       "</table>\n",
       "</div>"
      ],
      "text/plain": [
       "                                            img_data  \\\n",
       "0  https://images-na.ssl-images-amazon.com/images...   \n",
       "1  https://images-na.ssl-images-amazon.com/images...   \n",
       "2  https://images-na.ssl-images-amazon.com/images...   \n",
       "3  https://images-na.ssl-images-amazon.com/images...   \n",
       "4  https://images-na.ssl-images-amazon.com/images...   \n",
       "\n",
       "                                            img_link  \\\n",
       "0  https://images-na.ssl-images-amazon.com/images...   \n",
       "1  https://images-na.ssl-images-amazon.com/images...   \n",
       "2  https://images-na.ssl-images-amazon.com/images...   \n",
       "3  https://images-na.ssl-images-amazon.com/images...   \n",
       "4  https://images-na.ssl-images-amazon.com/images...   \n",
       "\n",
       "                                                link  \\\n",
       "0  https://www.amazon.com/ORWINE-Educational-Fric...   \n",
       "1  https://www.amazon.com/Melissa-Doug-Flip-Fish-...   \n",
       "2  https://www.amazon.com/TYRY-HU-Pacifier-Silico...   \n",
       "3  https://www.amazon.com/Patrol-Ultimate-Rescue-...   \n",
       "4  https://www.amazon.com/Skip-Hop-Explore-Follow...   \n",
       "\n",
       "                                                name  num_ratings  price  \\\n",
       "0  ORWINE Inertia Toy Early Educational Toddler B...         99.0  16.99   \n",
       "1  Melissa & Doug Flip Fish Baby Toy, Development...        243.0  14.99   \n",
       "2  TYRY.HU Pacifier Clips Silicone Teething Beads...        209.0  13.99   \n",
       "3  PAW Patrol Ultimate Rescue Chase's Mini Helico...         45.0   7.29   \n",
       "4  Skip Hop Explore & More Follow-Me Bee Crawl To...        131.0  23.49   \n",
       "\n",
       "                stars  \n",
       "0  4.8 out of 5 stars  \n",
       "1  4.8 out of 5 stars  \n",
       "2  4.1 out of 5 stars  \n",
       "3  4.8 out of 5 stars  \n",
       "4  4.5 out of 5 stars  "
      ]
     },
     "execution_count": 4,
     "metadata": {},
     "output_type": "execute_result"
    }
   ],
   "source": [
    "df = pd.read_csv('amazon_toys.csv')\n",
    "df.head()"
   ]
  },
  {
   "cell_type": "markdown",
   "metadata": {},
   "source": [
    "Now, we get the final data frame object using for further analysis."
   ]
  }
 ],
 "metadata": {
  "kernelspec": {
   "display_name": "Python 3",
   "language": "python",
   "name": "python3"
  },
  "language_info": {
   "codemirror_mode": {
    "name": "ipython",
    "version": 3
   },
   "file_extension": ".py",
   "mimetype": "text/x-python",
   "name": "python",
   "nbconvert_exporter": "python",
   "pygments_lexer": "ipython3",
   "version": "3.7.1"
  }
 },
 "nbformat": 4,
 "nbformat_minor": 2
}
