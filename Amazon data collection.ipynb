{
 "cells": [
  {
   "cell_type": "markdown",
   "metadata": {},
   "source": [
    "## Preface\n",
    "In the project, we extract data from amazon, and prepare for further analysis. Also, we try to visualize data in order to describe consumptional behaviors.\n"
   ]
  },
  {
   "cell_type": "markdown",
   "metadata": {},
   "source": [
    "## Collect data\n",
    "We use BeautifulSoup to parse the raw HTML. The variables for each items are: image data in bytes, image link, item link, name of goods, numbers of rating, price and rating(0-5)."
   ]
  },
  {
   "cell_type": "code",
   "execution_count": 1,
   "metadata": {},
   "outputs": [],
   "source": [
    "import requests\n",
    "from bs4 import BeautifulSoup"
   ]
  },
  {
   "cell_type": "code",
   "execution_count": 2,
   "metadata": {},
   "outputs": [],
   "source": [
    "import pandas as pd\n",
    "\n",
    "# one page item\n",
    "def getOnePage(url):\n",
    "    onepage = []\n",
    "    count = 0\n",
    "    getting = False\n",
    "    while not getting:\n",
    "        headers = {\n",
    "            'User-Agent': 'Mozilla/5.0 (Macintosh; Intel Mac OS X 10_10_3) AppleWebKit/537.36 (KHTML, like Gecko) Chrome/54.0.2840.71 Safari/537.36'\n",
    "            }\n",
    "\n",
    "        # call response\n",
    "        response = requests.get(url, headers=headers)\n",
    "\n",
    "        # build Soup object \n",
    "        root = BeautifulSoup(response.text, 'html5lib')\n",
    "\n",
    "        # get a list contain each item's HTML\n",
    "        # try serveal times until it is correct\n",
    "    \n",
    "        print(getting)\n",
    "        items = root.find_all(\"div\", class_=\"s-item-container\")\n",
    "        count = count + 1\n",
    "        if len(items) != 0:\n",
    "            getting = True    \n",
    "            \n",
    "    # collect each item in one page\n",
    "    for i in items:\n",
    "        try:\n",
    "            # deal with each item HTML\n",
    "            d = {}\n",
    "            d['img_data'] = requests.get(i.find(\"img\")['src']).content\n",
    "            d['img_link'] = i.find(\"img\")['src']\n",
    "            d['link'] = i.find(\"a\", class_=\"s-access-detail-page\")['href']\n",
    "            d['name'] = i.find(\"a\", class_=\"s-access-detail-page\").text\n",
    "            d['num_ratings'] = \\\n",
    "            float((i.find(\"a\", {\"href\":lambda x : x.endswith(\"#customerReviews\")}).text).replace(',',''))\n",
    "            d['price'] = \\\n",
    "            float(i.find(\"span\", class_=\"sx-price-whole\").text + '.'+\\\n",
    "            i.find(\"sup\",class_=\"sx-price-fractional\").text\n",
    "            )\n",
    "            d['stars'] = i.find(\"i\",class_=\"a-icon-star\").text\n",
    "            # print(d)\n",
    "            onepage.append(d)\n",
    "        except (TypeError, AttributeError):\n",
    "            pass\n",
    "        \n",
    "    return onepage\n",
    "\n",
    "    \n",
    "# url = 'https://www.amazon.com/s/ref=sd_allcat_nav_desktop_sa_intl_baby_toddler_toys?_encoding=UTF8&bbn=16225005011&rh=i%3Aspecialty-aps%2Cn%3A%2116225005011%2Cn%3A196601011'\n",
    "# getOnePage(url)"
   ]
  },
  {
   "cell_type": "code",
   "execution_count": 3,
   "metadata": {},
   "outputs": [],
   "source": [
    "def getUrl(page):\n",
    "    return 'https://www.amazon.com/s/ref=sr_pg_'+str(page)+\\\n",
    "    '?rh=i%3Ababy-products-intl-ship%2Cn%3A%2116225005011%2Cn%3A196601011&page='+str(page)+\\\n",
    "    '&bbn=16225005011&ie=UTF8&qid=1549443515'"
   ]
  },
  {
   "cell_type": "code",
   "execution_count": null,
   "metadata": {
    "scrolled": true
   },
   "outputs": [],
   "source": [
    "# all scapling\n",
    "def scaplingAll():\n",
    "    \"\"\"return a dataframe\"\"\"\n",
    "    #df = pd.DataFrame()\n",
    "    df = pd.read_csv('amazon_toys.csv')\n",
    "    page = 48\n",
    "    while True and page<400:\n",
    "        # get url\n",
    "        url = getUrl(page)\n",
    "        print(url)\n",
    "        \n",
    "        # get one page dataframe\n",
    "        onePageItems = getOnePage(url)\n",
    "        print('this page has data:', len(onePageItems))\n",
    "        df = df.append(onePageItems) # add dataframe\n",
    "        print('have already been in page: ', page)\n",
    "        print('----------------------------')\n",
    "        page = page + 1\n",
    "        \n",
    "        # save df\n",
    "        df.to_csv('amazon_toys.csv', encoding='utf-8', index=False)\n",
    "    \n",
    "\n",
    "    return df\n",
    "\n",
    "\n",
    "items = scaplingAll()\n",
    "\n"
   ]
  },
  {
   "cell_type": "code",
   "execution_count": 11,
   "metadata": {},
   "outputs": [
    {
     "data": {
      "text/html": [
       "<div>\n",
       "<style scoped>\n",
       "    .dataframe tbody tr th:only-of-type {\n",
       "        vertical-align: middle;\n",
       "    }\n",
       "\n",
       "    .dataframe tbody tr th {\n",
       "        vertical-align: top;\n",
       "    }\n",
       "\n",
       "    .dataframe thead th {\n",
       "        text-align: right;\n",
       "    }\n",
       "</style>\n",
       "<table border=\"1\" class=\"dataframe\">\n",
       "  <thead>\n",
       "    <tr style=\"text-align: right;\">\n",
       "      <th></th>\n",
       "      <th>img_data</th>\n",
       "      <th>img_link</th>\n",
       "      <th>link</th>\n",
       "      <th>name</th>\n",
       "      <th>num_ratings</th>\n",
       "      <th>price</th>\n",
       "      <th>stars</th>\n",
       "    </tr>\n",
       "  </thead>\n",
       "  <tbody>\n",
       "    <tr>\n",
       "      <th>0</th>\n",
       "      <td>b'\\xff\\xd8\\xff\\xe0\\x00\\x10JFIF\\x00\\x01\\x01\\x00...</td>\n",
       "      <td>https://images-na.ssl-images-amazon.com/images...</td>\n",
       "      <td>https://www.amazon.com/Nuby-Ice-Gel-Teether-Ke...</td>\n",
       "      <td>Nuby Ice Gel Teether Keys</td>\n",
       "      <td>3184.0</td>\n",
       "      <td>3.54</td>\n",
       "      <td>4.3 out of 5 stars</td>\n",
       "    </tr>\n",
       "    <tr>\n",
       "      <th>1</th>\n",
       "      <td>b'\\xff\\xd8\\xff\\xe0\\x00\\x10JFIF\\x00\\x01\\x01\\x00...</td>\n",
       "      <td>https://images-na.ssl-images-amazon.com/images...</td>\n",
       "      <td>https://www.amazon.com/First-Years-Stack-Up-Cu...</td>\n",
       "      <td>The First Years Stack Up Cups</td>\n",
       "      <td>2811.0</td>\n",
       "      <td>3.99</td>\n",
       "      <td>4.8 out of 5 stars</td>\n",
       "    </tr>\n",
       "    <tr>\n",
       "      <th>2</th>\n",
       "      <td>b'\\xff\\xd8\\xff\\xe0\\x00\\x10JFIF\\x00\\x01\\x01\\x00...</td>\n",
       "      <td>https://images-na.ssl-images-amazon.com/images...</td>\n",
       "      <td>https://www.amazon.com/Baby-Banana-Training-To...</td>\n",
       "      <td>Baby Banana Infant Training Toothbrush and Tee...</td>\n",
       "      <td>7656.0</td>\n",
       "      <td>6.99</td>\n",
       "      <td>4.7 out of 5 stars</td>\n",
       "    </tr>\n",
       "    <tr>\n",
       "      <th>3</th>\n",
       "      <td>b'\\xff\\xd8\\xff\\xe0\\x00\\x10JFIF\\x00\\x01\\x01\\x00...</td>\n",
       "      <td>https://images-na.ssl-images-amazon.com/images...</td>\n",
       "      <td>https://www.amazon.com/Mega-Bloks-80-Piece-Bui...</td>\n",
       "      <td>Mega Bloks 80-Piece Big Building Bag, Classic</td>\n",
       "      <td>5954.0</td>\n",
       "      <td>14.92</td>\n",
       "      <td>4.7 out of 5 stars</td>\n",
       "    </tr>\n",
       "    <tr>\n",
       "      <th>4</th>\n",
       "      <td>b'\\xff\\xd8\\xff\\xe0\\x00\\x10JFIF\\x00\\x01\\x01\\x00...</td>\n",
       "      <td>https://images-na.ssl-images-amazon.com/images...</td>\n",
       "      <td>https://www.amazon.com/Baby-Einstein-Along-Tun...</td>\n",
       "      <td>Baby Einstein Take Along Tunes Musical Toy</td>\n",
       "      <td>10217.0</td>\n",
       "      <td>8.99</td>\n",
       "      <td>4.6 out of 5 stars</td>\n",
       "    </tr>\n",
       "  </tbody>\n",
       "</table>\n",
       "</div>"
      ],
      "text/plain": [
       "                                            img_data  \\\n",
       "0  b'\\xff\\xd8\\xff\\xe0\\x00\\x10JFIF\\x00\\x01\\x01\\x00...   \n",
       "1  b'\\xff\\xd8\\xff\\xe0\\x00\\x10JFIF\\x00\\x01\\x01\\x00...   \n",
       "2  b'\\xff\\xd8\\xff\\xe0\\x00\\x10JFIF\\x00\\x01\\x01\\x00...   \n",
       "3  b'\\xff\\xd8\\xff\\xe0\\x00\\x10JFIF\\x00\\x01\\x01\\x00...   \n",
       "4  b'\\xff\\xd8\\xff\\xe0\\x00\\x10JFIF\\x00\\x01\\x01\\x00...   \n",
       "\n",
       "                                            img_link  \\\n",
       "0  https://images-na.ssl-images-amazon.com/images...   \n",
       "1  https://images-na.ssl-images-amazon.com/images...   \n",
       "2  https://images-na.ssl-images-amazon.com/images...   \n",
       "3  https://images-na.ssl-images-amazon.com/images...   \n",
       "4  https://images-na.ssl-images-amazon.com/images...   \n",
       "\n",
       "                                                link  \\\n",
       "0  https://www.amazon.com/Nuby-Ice-Gel-Teether-Ke...   \n",
       "1  https://www.amazon.com/First-Years-Stack-Up-Cu...   \n",
       "2  https://www.amazon.com/Baby-Banana-Training-To...   \n",
       "3  https://www.amazon.com/Mega-Bloks-80-Piece-Bui...   \n",
       "4  https://www.amazon.com/Baby-Einstein-Along-Tun...   \n",
       "\n",
       "                                                name  num_ratings  price  \\\n",
       "0                          Nuby Ice Gel Teether Keys       3184.0   3.54   \n",
       "1                      The First Years Stack Up Cups       2811.0   3.99   \n",
       "2  Baby Banana Infant Training Toothbrush and Tee...       7656.0   6.99   \n",
       "3      Mega Bloks 80-Piece Big Building Bag, Classic       5954.0  14.92   \n",
       "4         Baby Einstein Take Along Tunes Musical Toy      10217.0   8.99   \n",
       "\n",
       "                stars  \n",
       "0  4.3 out of 5 stars  \n",
       "1  4.8 out of 5 stars  \n",
       "2  4.7 out of 5 stars  \n",
       "3  4.7 out of 5 stars  \n",
       "4  4.6 out of 5 stars  "
      ]
     },
     "execution_count": 11,
     "metadata": {},
     "output_type": "execute_result"
    }
   ],
   "source": [
    "\n",
    "df = pd.read_csv('amazon_toys.csv')\n",
    "df.head()"
   ]
  },
  {
   "cell_type": "code",
   "execution_count": 12,
   "metadata": {},
   "outputs": [
    {
     "data": {
      "text/plain": [
       "(6271, 7)"
      ]
     },
     "execution_count": 12,
     "metadata": {},
     "output_type": "execute_result"
    }
   ],
   "source": [
    "df.shape"
   ]
  },
  {
   "cell_type": "markdown",
   "metadata": {},
   "source": [
    "Now, we get the final data frame object using for further analysis."
   ]
  }
 ],
 "metadata": {
  "kernelspec": {
   "display_name": "Python 3",
   "language": "python",
   "name": "python3"
  },
  "language_info": {
   "codemirror_mode": {
    "name": "ipython",
    "version": 3
   },
   "file_extension": ".py",
   "mimetype": "text/x-python",
   "name": "python",
   "nbconvert_exporter": "python",
   "pygments_lexer": "ipython3",
   "version": "3.7.1"
  }
 },
 "nbformat": 4,
 "nbformat_minor": 2
}
